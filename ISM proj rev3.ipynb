{
 "cells": [
  {
   "cell_type": "code",
   "execution_count": 1,
   "id": "b9aa7a88",
   "metadata": {},
   "outputs": [],
   "source": [
    "import pandas as pd\n",
    "import numpy as np\n",
    "from sklearn.model_selection import train_test_split\n",
    "from sklearn.preprocessing import StandardScaler\n",
    "from sklearn.svm import SVC\n",
    "from sklearn.metrics import accuracy_score\n",
    "from sklearn.neighbors import KNeighborsClassifier\n",
    "from sklearn.naive_bayes import GaussianNB\n",
    "from sklearn.ensemble import RandomForestClassifier\n",
    "import arff as arf"
   ]
  },
  {
   "cell_type": "code",
   "execution_count": 2,
   "id": "7ffde982",
   "metadata": {},
   "outputs": [],
   "source": [
    "file =open(\"final-dataset.arff\")\n",
    "decoder = arf.ArffDecoder()\n",
    "data=decoder.decode(file,encode_nominal=True)"
   ]
  },
  {
   "cell_type": "code",
   "execution_count": 3,
   "id": "c499bd88",
   "metadata": {},
   "outputs": [],
   "source": [
    "vals=[val[0:-1] for val in data['data']]\n",
    "labels=[lab[-1] for lab in data['data']]"
   ]
  },
  {
   "cell_type": "code",
   "execution_count": 5,
   "id": "64814b71",
   "metadata": {},
   "outputs": [],
   "source": [
    "da=set(labels)\n",
    "brac=600\n",
    "templ=[]\n",
    "tempd=[]\n",
    "for i in da:\n",
    "    coun=0\n",
    "    while coun<brac:\n",
    "        for j in range(len(labels)):\n",
    "            if labels[j]:\n",
    "                templ.append(labels[j])\n",
    "                tempd.append(vals[j])\n",
    "                coun+=1\n",
    "            if coun==brac:\n",
    "                break\n",
    "vals=tempd\n",
    "labels=templ"
   ]
  },
  {
   "cell_type": "code",
   "execution_count": 6,
   "id": "1e94ca1c",
   "metadata": {},
   "outputs": [
    {
     "name": "stdout",
     "output_type": "stream",
     "text": [
      "3000\n"
     ]
    }
   ],
   "source": [
    "l=len(vals)\n",
    "print(l)"
   ]
  },
  {
   "cell_type": "code",
   "execution_count": 7,
   "id": "de14be8a",
   "metadata": {},
   "outputs": [],
   "source": [
    "X_train,X_test,Y_train,Y_test=train_test_split(vals,labels,stratify=labels,test_size=0.2,random_state=0)"
   ]
  },
  {
   "cell_type": "code",
   "execution_count": 8,
   "id": "9a930f90",
   "metadata": {},
   "outputs": [],
   "source": [
    "scaler=StandardScaler()\n",
    "x_train=scaler.fit_transform(X_train)\n",
    "x_test=scaler.transform(X_test)\n",
    "y_train=np.array(Y_train)\n",
    "y_test=np.array(Y_test)"
   ]
  },
  {
   "cell_type": "code",
   "execution_count": 9,
   "id": "86d5124f",
   "metadata": {},
   "outputs": [
    {
     "data": {
      "text/plain": [
       "SVC(gamma='auto', kernel='sigmoid')"
      ]
     },
     "execution_count": 9,
     "metadata": {},
     "output_type": "execute_result"
    }
   ],
   "source": [
    "model=SVC(kernel='sigmoid',gamma='auto')\n",
    "model.fit(x_train,y_train)"
   ]
  },
  {
   "cell_type": "code",
   "execution_count": 10,
   "id": "849f5ea0",
   "metadata": {},
   "outputs": [],
   "source": [
    "y_pred=model.predict(x_test)"
   ]
  },
  {
   "cell_type": "code",
   "execution_count": 11,
   "id": "a93edb76",
   "metadata": {},
   "outputs": [
    {
     "name": "stdout",
     "output_type": "stream",
     "text": [
      "88.66666666666667 %\n"
     ]
    }
   ],
   "source": [
    "print((accuracy_score(y_pred,y_test))*100,\"%\")"
   ]
  },
  {
   "cell_type": "code",
   "execution_count": 12,
   "id": "588d0ab1",
   "metadata": {},
   "outputs": [
    {
     "data": {
      "text/plain": [
       "KNeighborsClassifier()"
      ]
     },
     "execution_count": 12,
     "metadata": {},
     "output_type": "execute_result"
    }
   ],
   "source": [
    "model1=KNeighborsClassifier(n_neighbors=5)\n",
    "model1.fit(x_train,y_train)"
   ]
  },
  {
   "cell_type": "code",
   "execution_count": 13,
   "id": "7d415b15",
   "metadata": {},
   "outputs": [],
   "source": [
    "y_pred1=model1.predict(x_test)"
   ]
  },
  {
   "cell_type": "code",
   "execution_count": 14,
   "id": "bb6f21a9",
   "metadata": {},
   "outputs": [
    {
     "name": "stdout",
     "output_type": "stream",
     "text": [
      "98.16666666666667 %\n"
     ]
    }
   ],
   "source": [
    "print(accuracy_score(y_pred1,y_test)*100,\"%\")"
   ]
  },
  {
   "cell_type": "code",
   "execution_count": 15,
   "id": "64c89dbd",
   "metadata": {},
   "outputs": [
    {
     "data": {
      "text/plain": [
       "GaussianNB()"
      ]
     },
     "execution_count": 15,
     "metadata": {},
     "output_type": "execute_result"
    }
   ],
   "source": [
    "model2=GaussianNB()\n",
    "model2.fit(x_train,y_train)"
   ]
  },
  {
   "cell_type": "code",
   "execution_count": 16,
   "id": "63f35521",
   "metadata": {},
   "outputs": [],
   "source": [
    "y_pred2=model2.predict(x_test)"
   ]
  },
  {
   "cell_type": "code",
   "execution_count": 17,
   "id": "b864e354",
   "metadata": {},
   "outputs": [
    {
     "name": "stdout",
     "output_type": "stream",
     "text": [
      "90.16666666666666 %\n"
     ]
    }
   ],
   "source": [
    "print((accuracy_score(y_pred2,y_test))*100,\"%\")"
   ]
  },
  {
   "cell_type": "code",
   "execution_count": 18,
   "id": "30dd7475",
   "metadata": {},
   "outputs": [],
   "source": [
    "train_x,val_x,train_y,val_y=train_test_split(x_train,y_train,stratify=y_train,test_size=0.2,random_state=0)"
   ]
  },
  {
   "cell_type": "code",
   "execution_count": 19,
   "id": "f41fa467",
   "metadata": {},
   "outputs": [
    {
     "name": "stdout",
     "output_type": "stream",
     "text": [
      "(2400, 27) (600, 27)\n"
     ]
    }
   ],
   "source": [
    "print(x_train.shape, x_test.shape)"
   ]
  },
  {
   "cell_type": "code",
   "execution_count": 23,
   "id": "772bd93a",
   "metadata": {},
   "outputs": [],
   "source": [
    "columns = ['SRC_ADD','DES_ADD','PKT_ID','FROM_NODE','TO_NODE','PKT_TYPE','PKT_SIZE','FLAGS','FID','SEQ_NUMBER','NUMBER_OF_PKT',\n",
    "          'NUMBER_OF_BYTE','NODE_NAME_FROM','NODE_NAME_TO','PKT_IN','PKT_OUT','PKT_R','PKT_DELAY_NODE','PKT_RATE','BYTE_RATE',\n",
    "          'PKT_AVG_SIZE','UTILIZATION','PKT_DELAY','PKT_SEND_TIME','PKT_RESEVED_TIME','FIRST_PKT_SENT','LAST_PKT_RESEVED']"
   ]
  },
  {
   "cell_type": "code",
   "execution_count": 20,
   "id": "f36238ab",
   "metadata": {},
   "outputs": [],
   "source": [
    "model1=SVC(kernel='sigmoid', gamma='auto')\n",
    "model1.fit(train_x, train_y)\n",
    "y_val_pred1 = model1.predict(val_x)\n",
    "y_val_pred1 = pd.DataFrame(y_val_pred1)\n",
    "y_test_pred1 = model1.predict(x_test)\n",
    "y_test_pred1 = pd.DataFrame(y_test_pred1)"
   ]
  },
  {
   "cell_type": "code",
   "execution_count": 21,
   "id": "ea1ef76c",
   "metadata": {},
   "outputs": [],
   "source": [
    "model2=KNeighborsClassifier(n_neighbors=5)\n",
    "model2.fit(train_x, train_y)\n",
    "y_val_pred2 = model2.predict(val_x)\n",
    "y_val_pred2 = pd.DataFrame(y_val_pred2)\n",
    "y_test_pred2 = model2.predict(x_test)\n",
    "y_test_pred2 = pd.DataFrame(y_test_pred2)"
   ]
  },
  {
   "cell_type": "code",
   "execution_count": 22,
   "id": "97679eef",
   "metadata": {},
   "outputs": [],
   "source": [
    "model3= GaussianNB()\n",
    "model3.fit(train_x, train_y)\n",
    "y_val_pred3 = model3.predict(val_x)\n",
    "y_val_pred3 = pd.DataFrame(y_val_pred3)\n",
    "y_test_pred3 = model3.predict(x_test)\n",
    "y_test_pred3 = pd.DataFrame(y_test_pred3)"
   ]
  },
  {
   "cell_type": "code",
   "execution_count": 24,
   "id": "c27b1fdb",
   "metadata": {},
   "outputs": [],
   "source": [
    "val_input=pd.concat([pd.DataFrame(val_x,columns=columns),y_val_pred1,y_val_pred2,y_val_pred3], axis=1)\n",
    "test_input=pd.concat([pd.DataFrame(x_test,columns=columns),y_test_pred1,y_test_pred2,y_test_pred3], axis=1)"
   ]
  },
  {
   "cell_type": "code",
   "execution_count": 25,
   "id": "8088d58a",
   "metadata": {},
   "outputs": [
    {
     "data": {
      "text/plain": [
       "RandomForestClassifier(n_estimators=200)"
      ]
     },
     "execution_count": 25,
     "metadata": {},
     "output_type": "execute_result"
    }
   ],
   "source": [
    "model=RandomForestClassifier(n_estimators=200)\n",
    "model.fit(val_input, val_y)"
   ]
  },
  {
   "cell_type": "code",
   "execution_count": 26,
   "id": "5457e4a1",
   "metadata": {},
   "outputs": [
    {
     "name": "stdout",
     "output_type": "stream",
     "text": [
      "97.5 %\n"
     ]
    }
   ],
   "source": [
    "print((model.score(test_input, y_test))*100,\"%\")"
   ]
  },
  {
   "cell_type": "code",
   "execution_count": null,
   "id": "0b17edb6",
   "metadata": {},
   "outputs": [],
   "source": []
  }
 ],
 "metadata": {
  "kernelspec": {
   "display_name": "Python 3 (ipykernel)",
   "language": "python",
   "name": "python3"
  },
  "language_info": {
   "codemirror_mode": {
    "name": "ipython",
    "version": 3
   },
   "file_extension": ".py",
   "mimetype": "text/x-python",
   "name": "python",
   "nbconvert_exporter": "python",
   "pygments_lexer": "ipython3",
   "version": "3.9.7"
  }
 },
 "nbformat": 4,
 "nbformat_minor": 5
}
